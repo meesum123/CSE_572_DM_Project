{
 "cells": [
  {
   "cell_type": "code",
   "execution_count": 5,
   "id": "0f6c5841",
   "metadata": {},
   "outputs": [
    {
     "ename": "ModuleNotFoundError",
     "evalue": "No module named 'cv2'",
     "output_type": "error",
     "traceback": [
      "\u001b[0;31m---------------------------------------------------------------------------\u001b[0m",
      "\u001b[0;31mModuleNotFoundError\u001b[0m                       Traceback (most recent call last)",
      "\u001b[0;32m/var/folders/12/7ljcd70n4v9dft3b3tgj5qwr0000gn/T/ipykernel_78059/267950839.py\u001b[0m in \u001b[0;36m<module>\u001b[0;34m\u001b[0m\n\u001b[1;32m      1\u001b[0m \u001b[0;31m# Import the necessary packages\u001b[0m\u001b[0;34m\u001b[0m\u001b[0;34m\u001b[0m\u001b[0m\n\u001b[0;32m----> 2\u001b[0;31m \u001b[0;32mimport\u001b[0m \u001b[0mcv2\u001b[0m\u001b[0;34m\u001b[0m\u001b[0;34m\u001b[0m\u001b[0m\n\u001b[0m\u001b[1;32m      3\u001b[0m \u001b[0;32mimport\u001b[0m \u001b[0mnumpy\u001b[0m \u001b[0;32mas\u001b[0m \u001b[0mnp\u001b[0m\u001b[0;34m\u001b[0m\u001b[0;34m\u001b[0m\u001b[0m\n\u001b[1;32m      4\u001b[0m \u001b[0;34m\u001b[0m\u001b[0m\n\u001b[1;32m      5\u001b[0m \u001b[0;34m\u001b[0m\u001b[0m\n",
      "\u001b[0;31mModuleNotFoundError\u001b[0m: No module named 'cv2'"
     ]
    }
   ],
   "source": [
    "# Import the necessary packages\n",
    "import cv2\n",
    "import numpy as np\n",
    "\n",
    "\n",
    "def back_rm(filename):\n",
    "    # Load the image\n",
    "    img = cv2.imread(filename)\n",
    "\n",
    "    # Convert the image to grayscale\n",
    "    gr = cv2.cvtColor(img, cv2.COLOR_BGR2GRAY)\n",
    "\n",
    "    # Make a copy of the grayscale image\n",
    "    bg = gr.copy()\n",
    "\n",
    "    # Apply morphological transformations\n",
    "    for i in range(5):\n",
    "        kernel2 = cv2.getStructuringElement(cv2.MORPH_ELLIPSE,\n",
    "                                            (2 * i + 1, 2 * i + 1))\n",
    "        bg = cv2.morphologyEx(bg, cv2.MORPH_CLOSE, kernel2)\n",
    "        bg = cv2.morphologyEx(bg, cv2.MORPH_OPEN, kernel2)\n",
    "\n",
    "    # Subtract the grayscale image from its processed copy\n",
    "    dif = cv2.subtract(bg, gr)\n",
    "\n",
    "    # Apply thresholding\n",
    "    bw = cv2.threshold(dif, 0, 255, cv2.THRESH_BINARY_INV | cv2.THRESH_OTSU)[1]\n",
    "    dark = cv2.threshold(bg, 0, 255, cv2.THRESH_BINARY_INV | cv2.THRESH_OTSU)[1]\n",
    "\n",
    "    # Extract pixels in the dark region\n",
    "    darkpix = gr[np.where(dark > 0)]\n",
    "\n",
    "    # Threshold the dark region to get the darker pixels inside it\n",
    "    darkpix = cv2.threshold(darkpix, 0, 255, cv2.THRESH_BINARY | cv2.THRESH_OTSU)[1]\n",
    "\n",
    "    # Paste the extracted darker pixels in the watermark region\n",
    "    bw[np.where(dark > 0)] = darkpix.T\n",
    "\n",
    "    cv2.imwrite('final.jpg', bw)\n",
    "\n",
    "\n",
    "back_rm('1u70tk.jpg')"
   ]
  }
 ],
 "metadata": {
  "kernelspec": {
   "display_name": "Python 3 (ipykernel)",
   "language": "python",
   "name": "python3"
  },
  "language_info": {
   "codemirror_mode": {
    "name": "ipython",
    "version": 3
   },
   "file_extension": ".py",
   "mimetype": "text/x-python",
   "name": "python",
   "nbconvert_exporter": "python",
   "pygments_lexer": "ipython3",
   "version": "3.9.7"
  }
 },
 "nbformat": 4,
 "nbformat_minor": 5
}
